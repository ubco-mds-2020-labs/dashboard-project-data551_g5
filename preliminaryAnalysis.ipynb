{
 "cells": [
  {
   "cell_type": "code",
   "execution_count": 1,
   "id": "medical-lyric",
   "metadata": {},
   "outputs": [],
   "source": [
    "import pandas as pd"
   ]
  },
  {
   "cell_type": "code",
   "execution_count": 5,
   "id": "broke-relief",
   "metadata": {},
   "outputs": [],
   "source": [
    "suicide_dataset = pd.read_csv('master.csv')"
   ]
  },
  {
   "cell_type": "code",
   "execution_count": 14,
   "id": "permanent-section",
   "metadata": {},
   "outputs": [
    {
     "data": {
      "text/plain": [
       "country\n",
       "Albania                 264\n",
       "Antigua and Barbuda     324\n",
       "Argentina               372\n",
       "Armenia                 298\n",
       "Aruba                   168\n",
       "                       ... \n",
       "United Arab Emirates     72\n",
       "United Kingdom          372\n",
       "United States           372\n",
       "Uruguay                 336\n",
       "Uzbekistan              264\n",
       "Name: country, Length: 101, dtype: int64"
      ]
     },
     "execution_count": 14,
     "metadata": {},
     "output_type": "execute_result"
    }
   ],
   "source": [
    "suicide_dataset.groupby('country').country.count()"
   ]
  }
 ],
 "metadata": {
  "kernelspec": {
   "display_name": "Python 3",
   "language": "python",
   "name": "python3"
  },
  "language_info": {
   "codemirror_mode": {
    "name": "ipython",
    "version": 3
   },
   "file_extension": ".py",
   "mimetype": "text/x-python",
   "name": "python",
   "nbconvert_exporter": "python",
   "pygments_lexer": "ipython3",
   "version": "3.8.3"
  }
 },
 "nbformat": 4,
 "nbformat_minor": 5
}
